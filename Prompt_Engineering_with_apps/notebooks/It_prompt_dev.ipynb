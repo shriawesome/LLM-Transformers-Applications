{
 "cells": [
  {
   "cell_type": "markdown",
   "id": "9998a298-0b68-4d99-b79e-de56ac360e23",
   "metadata": {},
   "source": [
    "# Iterative prompt development\n",
    "Usual ML iterative consists of :\n",
    "> Idea -> Implementation(code/data) -> Experimental results -> Error Analysis -> Repeat\n",
    "\n",
    "Similarly for Prompt Engineering:\n",
    "> Try something -> Analyze where the result doesnot give what you want -> Clarify instructions, give more time to think -> Refine Prompts with a batch of examples -> Repeat"
   ]
  },
  {
   "cell_type": "code",
   "execution_count": 1,
   "id": "161bb5d0-0b5d-4ab9-aa61-b3188f7a6abe",
   "metadata": {},
   "outputs": [],
   "source": [
    "import os\n",
    "import json\n",
    "import openai\n",
    "import sys\n",
    "sys.path.append('../')\n",
    "\n",
    "# Getting credentials\n",
    "from Config import openaiConfig\n",
    "openai.organization = openaiConfig.OPENAI_ORGANISATION\n",
    "openai.api_key = openaiConfig.OPENAI_API_KEY"
   ]
  },
  {
   "cell_type": "code",
   "execution_count": 11,
   "id": "8cc152cb-d08f-4bcc-bc53-072871a92f83",
   "metadata": {},
   "outputs": [],
   "source": [
    "def getCompletion(prompt, model='gpt-3.5-turbo'):\n",
    "    messages = [\n",
    "    {'role':'user', 'content':prompt}\n",
    "    ]\n",
    "    response = openai.ChatCompletion.create(model = model,\n",
    "                                            messages = messages,\n",
    "                                            temperature = 0)\n",
    "    return response.choices[0].message['content']"
   ]
  },
  {
   "cell_type": "markdown",
   "id": "c596a85e-5f15-47dc-a6cd-82366e3cbc43",
   "metadata": {},
   "source": [
    "## Generate a marketing product description from a product fact sheet"
   ]
  },
  {
   "cell_type": "code",
   "execution_count": 8,
   "id": "d29f5cd9-4ab2-438b-ab8b-bd3bfacdb4f6",
   "metadata": {},
   "outputs": [],
   "source": [
    "factSheetChair = \"\"\"\n",
    "OVERVIEW\n",
    "- Part of a beautiful family of mid-century inspired office furniture, \n",
    "including filing cabinets, desks, bookcases, meeting tables, and more.\n",
    "- Several options of shell color and base finishes.\n",
    "- Available with plastic back and front upholstery (SWC-100) \n",
    "or full upholstery (SWC-110) in 10 fabric and 6 leather options.\n",
    "- Base finish options are: stainless steel, matte black, \n",
    "gloss white, or chrome.\n",
    "- Chair is available with or without armrests.\n",
    "- Suitable for home or business settings.\n",
    "- Qualified for contract use.\n",
    "\n",
    "CONSTRUCTION\n",
    "- 5-wheel plastic coated aluminum base.\n",
    "- Pneumatic chair adjust for easy raise/lower action.\n",
    "\n",
    "DIMENSIONS\n",
    "- WIDTH 53 CM | 20.87”\n",
    "- DEPTH 51 CM | 20.08”\n",
    "- HEIGHT 80 CM | 31.50”\n",
    "- SEAT HEIGHT 44 CM | 17.32”\n",
    "- SEAT DEPTH 41 CM | 16.14”\n",
    "\n",
    "OPTIONS\n",
    "- Soft or hard-floor caster options.\n",
    "- Two choices of seat foam densities: \n",
    " medium (1.8 lb/ft3) or high (2.8 lb/ft3)\n",
    "- Armless or 8 position PU armrests \n",
    "\n",
    "MATERIALS\n",
    "SHELL BASE GLIDER\n",
    "- Cast Aluminum with modified nylon PA6/PA66 coating.\n",
    "- Shell thickness: 10 mm.\n",
    "SEAT\n",
    "- HD36 foam\n",
    "\n",
    "COUNTRY OF ORIGIN\n",
    "- Italy\n",
    "\"\"\""
   ]
  },
  {
   "cell_type": "code",
   "execution_count": 12,
   "id": "dd34304b-103e-4ae5-9cb0-a141683f6efd",
   "metadata": {},
   "outputs": [
    {
     "name": "stdout",
     "output_type": "stream",
     "text": [
      "Introducing our stunning mid-century inspired office chair, the perfect addition to any home or business setting. Part of a beautiful family of office furniture, including filing cabinets, desks, bookcases, meeting tables, and more, this chair is available in several options of shell color and base finishes to suit your style. Choose from plastic back and front upholstery (SWC-100) or full upholstery (SWC-110) in 10 fabric and 6 leather options.\n",
      "\n",
      "The chair is constructed with a 5-wheel plastic coated aluminum base and features a pneumatic chair adjust for easy raise/lower action. It is available with or without armrests and is qualified for contract use. The base finish options are stainless steel, matte black, gloss white, or chrome.\n",
      "\n",
      "Measuring at a width of 53 cm, depth of 51 cm, and height of 80 cm, with a seat height of 44 cm and seat depth of 41 cm, this chair is designed for ultimate comfort. You can also choose between soft or hard-floor caster options and two choices of seat foam densities: medium (1.8 lb/ft3) or high (2.8 lb/ft3). The armrests are available in either an armless or 8 position PU option.\n",
      "\n",
      "The materials used in the construction of this chair are of the highest quality. The shell base glider is made of cast aluminum with modified nylon PA6/PA66 coating and has a shell thickness of 10 mm. The seat is made of HD36 foam, ensuring maximum comfort and durability.\n",
      "\n",
      "This chair is made in Italy and is the perfect combination of style and functionality. Upgrade your workspace with our mid-century inspired office chair today!\n"
     ]
    }
   ],
   "source": [
    "prompt = f\"\"\"\n",
    "Your task is to help a marketing team create a \n",
    "description for a retail website of a product based \n",
    "on a technical fact sheet.\n",
    "\n",
    "Write a product description based on the information \n",
    "provided in the technical specifications delimited by \n",
    "triple backticks.\n",
    "\n",
    "Technical specifications: ```{factSheetChair}```\n",
    "\"\"\"\n",
    "response = getCompletion(prompt)\n",
    "print(response)"
   ]
  },
  {
   "cell_type": "markdown",
   "id": "5c025ca5-9da0-42b3-a7a0-a499bd4eba59",
   "metadata": {},
   "source": [
    "### Issue 1 : The length of the response is too long.\n",
    "limit the length of the response wrt words/ characters"
   ]
  },
  {
   "cell_type": "code",
   "execution_count": 17,
   "id": "c4eceec1-4a8c-4772-8e77-0134a418ac08",
   "metadata": {},
   "outputs": [
    {
     "name": "stdout",
     "output_type": "stream",
     "text": [
      "Introducing our mid-century inspired office chair, perfect for home or business settings. Available in a range of shell colors and base finishes, with or without armrests. Choose from 10 fabric and 6 leather options for full or plastic upholstery. With a 5-wheel base and pneumatic chair adjust, it's both stylish and functional. Made in Italy.\n"
     ]
    }
   ],
   "source": [
    "prompt = f\"\"\"\n",
    "Your task is to help a marketing team create a \n",
    "description for a retail website of a product based \n",
    "on a technical fact sheet.\n",
    "\n",
    "Write a product description based on the information \n",
    "provided in the technical specifications delimited by \n",
    "triple backticks.\n",
    "\n",
    "Use atmost 50 words.\n",
    "\n",
    "Technical specifications: ```{factSheetChair}```\n",
    "\"\"\"\n",
    "response = getCompletion(prompt)\n",
    "print(response)"
   ]
  },
  {
   "cell_type": "code",
   "execution_count": 18,
   "id": "19f08974-1869-4386-a88a-7b9b8726bdd0",
   "metadata": {},
   "outputs": [
    {
     "name": "stdout",
     "output_type": "stream",
     "text": [
      "55\n"
     ]
    }
   ],
   "source": [
    "print(len(response.split(\" \")))"
   ]
  },
  {
   "cell_type": "markdown",
   "id": "41cebc02-dbb6-43a8-96da-193354e74811",
   "metadata": {},
   "source": [
    "You can also limit the response with respect to characters"
   ]
  },
  {
   "cell_type": "markdown",
   "id": "3e4633a1-9600-44f8-8347-dfe0808ea283",
   "metadata": {},
   "source": [
    "### Issue 2: Focuses on the wrong details\n",
    "Ask it to focus on the respective details"
   ]
  },
  {
   "cell_type": "code",
   "execution_count": 21,
   "id": "9ba657fe-a8ef-4a81-bae9-fd55ba2ef392",
   "metadata": {},
   "outputs": [
    {
     "name": "stdout",
     "output_type": "stream",
     "text": [
      "Introducing our mid-century inspired office chair, perfect for home or business settings. With a range of shell colors and base finishes, and the option of plastic or full upholstery, this chair is both stylish and comfortable. Constructed with a 5-wheel plastic coated aluminum base and pneumatic chair adjust, it's also practical. Available with or without armrests and suitable for contract use. Product ID: SWC-100, SWC-110.\n"
     ]
    }
   ],
   "source": [
    "prompt = f\"\"\"\n",
    "Your task is to help a marketing team create a \n",
    "description for a retail website of a product based \n",
    "on a technical fact sheet.\n",
    "\n",
    "Write a product description based on the information \n",
    "provided in the technical specifications delimited by \n",
    "triple backticks.\n",
    "\n",
    "The description is intended for furniture retailers, \n",
    "so should be technical in nature and focus on the \n",
    "materials the product is constructed from.\n",
    "\n",
    "Use at most 50 words.\n",
    "\n",
    "At the end of the description, include every 7-character Product ID in the technical specification\n",
    "\n",
    "Technical specifications: ```{facSheetChair}```\n",
    "\"\"\"\n",
    "response = getCompletion(prompt)\n",
    "print(response)"
   ]
  },
  {
   "cell_type": "markdown",
   "id": "fec13407-1134-451c-a2c1-38814c422168",
   "metadata": {},
   "source": [
    "## Generate response as HTML data"
   ]
  },
  {
   "cell_type": "code",
   "execution_count": 24,
   "id": "41cd12f8-f6cc-4566-974c-4d92a1c60dd2",
   "metadata": {},
   "outputs": [
    {
     "name": "stdout",
     "output_type": "stream",
     "text": [
      "<div>\n",
      "<p>Introducing our mid-century inspired office chair, part of a beautiful family of furniture. Available in multiple shell colors and base finishes, with plastic or full upholstery options. Suitable for home or business settings and qualified for contract use. Constructed with a 5-wheel plastic coated aluminum base and pneumatic chair adjust for easy raise/lower action.</p>\n",
      "<p>Product IDs: SWC-100, SWC-110</p>\n",
      "</div>\n",
      "\n",
      "<table>\n",
      "  <caption>Product Dimensions</caption>\n",
      "  <tr>\n",
      "    <th>Dimension</th>\n",
      "    <th>Measurement (inches)</th>\n",
      "  </tr>\n",
      "  <tr>\n",
      "    <td>Width</td>\n",
      "    <td>20.87</td>\n",
      "  </tr>\n",
      "  <tr>\n",
      "    <td>Depth</td>\n",
      "    <td>20.08</td>\n",
      "  </tr>\n",
      "  <tr>\n",
      "    <td>Height</td>\n",
      "    <td>31.50</td>\n",
      "  </tr>\n",
      "  <tr>\n",
      "    <td>Seat Height</td>\n",
      "    <td>17.32</td>\n",
      "  </tr>\n",
      "  <tr>\n",
      "    <td>Seat Depth</td>\n",
      "    <td>16.14</td>\n",
      "  </tr>\n",
      "</table>\n"
     ]
    }
   ],
   "source": [
    "prompt = f\"\"\"\n",
    "Your task is to help a marketing team create a \n",
    "description for a retail website of a product based \n",
    "on a technical fact sheet.\n",
    "\n",
    "Write a product description based on the information \n",
    "provided in the technical specifications delimited by \n",
    "triple backticks.\n",
    "\n",
    "The description is intended for furniture retailers, \n",
    "so should be technical in nature and focus on the \n",
    "materials the product is constructed from.\n",
    "\n",
    "Use atmost 50 words.\n",
    "\n",
    "At the end of the description, include every 7-character \n",
    "Product ID in the technical specification.\n",
    "\n",
    "After the description, include a table that gives the \n",
    "product's dimensions. The table should have two columns.\n",
    "In the first column include the name of the dimension. \n",
    "In the second column include the measurements in inches only.\n",
    "\n",
    "Give the table the title 'Product Dimensions'.\n",
    "\n",
    "Format everything as HTML that can be used in a website. \n",
    "Place the description in a <div> element.\n",
    "\n",
    "Technical specifications: ```{factSheetChair}```\n",
    "\"\"\"\n",
    "\n",
    "response = getCompletion(prompt)\n",
    "print(response)"
   ]
  },
  {
   "cell_type": "markdown",
   "id": "71eedc4e-b189-4356-a267-0dae8a8bb812",
   "metadata": {},
   "source": [
    "### Validating HTML response"
   ]
  },
  {
   "cell_type": "code",
   "execution_count": 25,
   "id": "c0f1a9e1-3f8f-45d7-87ec-b8218f7571e2",
   "metadata": {},
   "outputs": [],
   "source": [
    "from IPython.display import display, HTML"
   ]
  },
  {
   "cell_type": "code",
   "execution_count": 26,
   "id": "2d42afc6-962b-4876-a3ff-eef8ed7510e1",
   "metadata": {},
   "outputs": [
    {
     "data": {
      "text/html": [
       "<div>\n",
       "<p>Introducing our mid-century inspired office chair, part of a beautiful family of furniture. Available in multiple shell colors and base finishes, with plastic or full upholstery options. Suitable for home or business settings and qualified for contract use. Constructed with a 5-wheel plastic coated aluminum base and pneumatic chair adjust for easy raise/lower action.</p>\n",
       "<p>Product IDs: SWC-100, SWC-110</p>\n",
       "</div>\n",
       "\n",
       "<table>\n",
       "  <caption>Product Dimensions</caption>\n",
       "  <tr>\n",
       "    <th>Dimension</th>\n",
       "    <th>Measurement (inches)</th>\n",
       "  </tr>\n",
       "  <tr>\n",
       "    <td>Width</td>\n",
       "    <td>20.87</td>\n",
       "  </tr>\n",
       "  <tr>\n",
       "    <td>Depth</td>\n",
       "    <td>20.08</td>\n",
       "  </tr>\n",
       "  <tr>\n",
       "    <td>Height</td>\n",
       "    <td>31.50</td>\n",
       "  </tr>\n",
       "  <tr>\n",
       "    <td>Seat Height</td>\n",
       "    <td>17.32</td>\n",
       "  </tr>\n",
       "  <tr>\n",
       "    <td>Seat Depth</td>\n",
       "    <td>16.14</td>\n",
       "  </tr>\n",
       "</table>"
      ],
      "text/plain": [
       "<IPython.core.display.HTML object>"
      ]
     },
     "metadata": {},
     "output_type": "display_data"
    }
   ],
   "source": [
    "display(HTML(response))"
   ]
  },
  {
   "cell_type": "code",
   "execution_count": null,
   "id": "ed4333d8-02d4-4927-b7e8-91b74036641a",
   "metadata": {},
   "outputs": [],
   "source": []
  }
 ],
 "metadata": {
  "kernelspec": {
   "display_name": "tfM1",
   "language": "python",
   "name": "tfm1"
  },
  "language_info": {
   "codemirror_mode": {
    "name": "ipython",
    "version": 3
   },
   "file_extension": ".py",
   "mimetype": "text/x-python",
   "name": "python",
   "nbconvert_exporter": "python",
   "pygments_lexer": "ipython3",
   "version": "3.8.13"
  }
 },
 "nbformat": 4,
 "nbformat_minor": 5
}
