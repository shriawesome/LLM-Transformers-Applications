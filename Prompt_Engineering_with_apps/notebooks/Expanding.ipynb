{
 "cells": [
  {
   "cell_type": "markdown",
   "id": "39c3efee-d951-4772-a700-e961cc395232",
   "metadata": {},
   "source": [
    "# Expanding\n",
    "1. It's a general practise when LLMs are used for brainstormning ideas.\n",
    "2. Hyperparameter `temperature` plays a vital role in this case."
   ]
  },
  {
   "cell_type": "code",
   "execution_count": 1,
   "id": "98dd3c26-799d-4dd2-973b-c3a1097a28af",
   "metadata": {},
   "outputs": [],
   "source": [
    "import json\n",
    "import openai\n",
    "import sys\n",
    "sys.path.append('../')\n",
    "\n",
    "from IPython.display import display, HTML, Markdown\n",
    "from redlines import Redlines\n",
    "\n",
    "# Getting credentials\n",
    "from Config import openaiConfig\n",
    "openai.organization = openaiConfig.OPENAI_ORGANISATION\n",
    "openai.api_key = openaiConfig.OPENAI_API_KEY"
   ]
  },
  {
   "cell_type": "code",
   "execution_count": 9,
   "id": "b09a6336-7984-4ca7-a41c-dfed709d9370",
   "metadata": {},
   "outputs": [],
   "source": [
    "def getCompletion(prompt, model='gpt-3.5-turbo', temperature=0):\n",
    "    messages = [\n",
    "    {'role':'user','content':prompt}\n",
    "    ]\n",
    "    response = openai.ChatCompletion.create(model = model,\n",
    "                                            messages = messages,\n",
    "                                            temperature = temperature)\n",
    "    return response.choices[0].message['content']"
   ]
  },
  {
   "cell_type": "markdown",
   "id": "9162bfbd-3990-4fa1-b502-04d9614c93ea",
   "metadata": {},
   "source": [
    "## 1. Automated response to user feedback"
   ]
  },
  {
   "cell_type": "code",
   "execution_count": 3,
   "id": "3f2a2033-a42f-4bab-8a49-eb460ab490f1",
   "metadata": {},
   "outputs": [],
   "source": [
    "# given the sentiment from the lesson on \"inferring\",\n",
    "# and the original customer message, customize the email\n",
    "sentiment = \"negative\"\n",
    "\n",
    "# review for a blender\n",
    "review = f\"\"\"\n",
    "So, they still had the 17 piece system on seasonal \\\n",
    "sale for around $49 in the month of November, about \\\n",
    "half off, but for some reason (call it price gouging) \\\n",
    "around the second week of December the prices all went \\\n",
    "up to about anywhere from between $70-$89 for the same \\\n",
    "system. And the 11 piece system went up around $10 or \\\n",
    "so in price also from the earlier sale price of $29. \\\n",
    "So it looks okay, but if you look at the base, the part \\\n",
    "where the blade locks into place doesn’t look as good \\\n",
    "as in previous editions from a few years ago, but I \\\n",
    "plan to be very gentle with it (example, I crush \\\n",
    "very hard items like beans, ice, rice, etc. in the \\ \n",
    "blender first then pulverize them in the serving size \\\n",
    "I want in the blender then switch to the whipping \\\n",
    "blade for a finer flour, and use the cross cutting blade \\\n",
    "first when making smoothies, then use the flat blade \\\n",
    "if I need them finer/less pulpy). Special tip when making \\\n",
    "smoothies, finely cut and freeze the fruits and \\\n",
    "vegetables (if using spinach-lightly stew soften the \\ \n",
    "spinach then freeze until ready for use-and if making \\\n",
    "sorbet, use a small to medium sized food processor) \\ \n",
    "that you plan to use that way you can avoid adding so \\\n",
    "much ice if at all-when making your smoothie. \\\n",
    "After about a year, the motor was making a funny noise. \\\n",
    "I called customer service but the warranty expired \\\n",
    "already, so I had to buy another one. FYI: The overall \\\n",
    "quality has gone done in these types of products, so \\\n",
    "they are kind of counting on brand recognition and \\\n",
    "consumer loyalty to maintain sales. Got it in about \\\n",
    "two days.\n",
    "\"\"\""
   ]
  },
  {
   "cell_type": "code",
   "execution_count": 5,
   "id": "db1b8f84-b460-41b8-89ee-792158d1c3f7",
   "metadata": {},
   "outputs": [
    {
     "name": "stdout",
     "output_type": "stream",
     "text": [
      "Dear Valued Customer,\n",
      "\n",
      "Thank you for taking the time to leave a review about our product. We are sorry to hear that you experienced an increase in price and that the quality of the product did not meet your expectations. We apologize for any inconvenience this may have caused you.\n",
      "\n",
      "We would like to assure you that we take all feedback seriously and we will be sure to pass your comments along to our team. If you have any further concerns, please do not hesitate to reach out to our customer service team for assistance.\n",
      "\n",
      "Thank you again for your review and for choosing our product. We hope to have the opportunity to serve you better in the future.\n",
      "\n",
      "Best regards,\n",
      "\n",
      "AI customer agent\n"
     ]
    }
   ],
   "source": [
    "prompt = f\"\"\"\n",
    "You are a customer service AI assistant.\n",
    "Your task is to send an email reply to a valued customer.\n",
    "Given the customer email delimited by ```, \\\n",
    "Generate a reply to thank the customer for their review.\n",
    "If the sentiment is positive or neutral, thank them for \\\n",
    "their review.\n",
    "If the sentiment is negative, apologize and suggest that \\\n",
    "they can reach out to customer service. \n",
    "Make sure to use specific details from the review.\n",
    "Write in a concise and professional tone.\n",
    "Sign the email as `AI customer agent`.\n",
    "Customer review: ```{review}```\n",
    "Review sentiment: {sentiment}\n",
    "\"\"\"\n",
    "response = getCompletion(prompt)\n",
    "print(response)"
   ]
  },
  {
   "cell_type": "markdown",
   "id": "2781bc0d-16f2-4344-996f-8643968bafb2",
   "metadata": {},
   "source": [
    "## 2. Playing around with temperature\n",
    "1. Lower value of temperature will always predict the next most likely word and will mostly keep the response of the model same.\n",
    "2. Higher value tends to output different outputs and enables the model to be creative but comes with a risk of distracting the model from expected behaviour."
   ]
  },
  {
   "cell_type": "code",
   "execution_count": 10,
   "id": "a8d07e52-42c0-470a-887a-62d42518fff8",
   "metadata": {},
   "outputs": [
    {
     "name": "stdout",
     "output_type": "stream",
     "text": [
      "Dear Valued Customer,\n",
      "\n",
      "Thank you for taking the time to leave us a review. We apologize for any inconvenience caused by the recent increase in prices. We understand how important it is to our customers to receive fair and competitive pricing, and we are sorry that we were unable to meet your expectations in this regard.\n",
      "\n",
      "We are also sorry to hear that you experienced issues with your previous blender and that the warranty had expired. If you have any further concerns or questions, please do not hesitate to reach out to our customer service team who would be happy to assist you.\n",
      "\n",
      "Thank you again for your feedback and for choosing our products. We appreciate your loyalty and hope to have the opportunity to serve you better in the future.\n",
      "\n",
      "Best regards,\n",
      "AI customer agent\n"
     ]
    }
   ],
   "source": [
    "prompt = f\"\"\"\n",
    "You are a customer service AI assistant.\n",
    "Your task is to send an email reply to a valued customer.\n",
    "Given the customer email delimited by ```, \\\n",
    "Generate a reply to thank the customer for their review.\n",
    "If the sentiment is positive or neutral, thank them for \\\n",
    "their review.\n",
    "If the sentiment is negative, apologize and suggest that \\\n",
    "they can reach out to customer service. \n",
    "Make sure to use specific details from the review.\n",
    "Write in a concise and professional tone.\n",
    "Sign the email as `AI customer agent`.\n",
    "Customer review: ```{review}```\n",
    "Review sentiment: {sentiment}\n",
    "\"\"\"\n",
    "response = getCompletion(prompt, temperature=0.7)\n",
    "print(response)"
   ]
  }
 ],
 "metadata": {
  "kernelspec": {
   "display_name": "tfM1",
   "language": "python",
   "name": "tfm1"
  },
  "language_info": {
   "codemirror_mode": {
    "name": "ipython",
    "version": 3
   },
   "file_extension": ".py",
   "mimetype": "text/x-python",
   "name": "python",
   "nbconvert_exporter": "python",
   "pygments_lexer": "ipython3",
   "version": "3.8.13"
  }
 },
 "nbformat": 4,
 "nbformat_minor": 5
}
