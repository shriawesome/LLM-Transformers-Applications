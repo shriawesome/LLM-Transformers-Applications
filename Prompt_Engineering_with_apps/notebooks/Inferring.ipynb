{
 "cells": [
  {
   "cell_type": "markdown",
   "id": "5262f33f-143d-4dcc-bcfa-5df42bb4815e",
   "metadata": {},
   "source": [
    "# Inferring\n",
    "Inference plays a very vital role in LLM's. Inference can be:\n",
    "1. Assigning labels for the input text(Classification).\n",
    "2. Identify different list of topics covered in the input text.\n",
    "3. Identify if a particular topic is being covered in the input text or not."
   ]
  },
  {
   "cell_type": "code",
   "execution_count": 1,
   "id": "b242ece1-c23e-403b-aa3f-9acf118bf860",
   "metadata": {},
   "outputs": [],
   "source": [
    "import json\n",
    "import openai\n",
    "import sys\n",
    "sys.path.append('../')\n",
    "\n",
    "# Getting credentials\n",
    "from Config import openaiConfig\n",
    "openai.organization = openaiConfig.OPENAI_ORGANISATION\n",
    "openai.api_key = openaiConfig.OPENAI_API_KEY"
   ]
  },
  {
   "cell_type": "code",
   "execution_count": 2,
   "id": "02ed2edd-364a-46e8-92bf-4fc43cb7b6a7",
   "metadata": {},
   "outputs": [],
   "source": [
    "def getCompletion(prompt, model='gpt-3.5-turbo'):\n",
    "    messages = [\n",
    "    {'role':'user','content':prompt}\n",
    "    ]\n",
    "    response = openai.ChatCompletion.create(model = model,\n",
    "                                            messages = messages,\n",
    "                                            temperature = 0)\n",
    "    return response.choices[0].message['content']"
   ]
  },
  {
   "cell_type": "markdown",
   "id": "a3eca1af-9881-49a2-a5cb-b54bf39e60c6",
   "metadata": {},
   "source": [
    "## Product Review Text"
   ]
  },
  {
   "cell_type": "code",
   "execution_count": 3,
   "id": "e986db46-e2e6-435a-b308-1e7de6aa677f",
   "metadata": {},
   "outputs": [],
   "source": [
    "prodReview = \"\"\"\n",
    "I ordered this as a gift for my son, so that he could use it with his \\\n",
    "Ash Ketchum cosplay for a convention we're going to. When I opened the \\\n",
    "box it came in, there was no...security anything, like you get with \\\n",
    "most boxes. No twist ties, no plastic, no...even tape on the outside of \\\n",
    "the box. It was just a cardboard box with official looking printing \\\n",
    "on it to make it look legit enough, and Pikachu was just loose on the \\\n",
    "inside. Most companies at least pack something to keep things from rolling around in the package, even if it's just a plastic backing for it to stay against. This was just...tossed in there with a small thing of instructions.\n",
    "\n",
    "So, I put fresh batteries in it, as it doesn't come with them, and realized there wasn't any sort of security measure that some of them have like a pull-tab. I mean, I suppose that is only needed if they come with batteries, and I couldn't really pin why that confused me in this case. Like it really bothered me that this didn't come with batteries in it (more on that to come). But no big deal, I was prepared, and I gave it a good shake. It took some doing, but I realized I only had the switch pushed over to demo mode (lol why demo mode when it doesn't come with batteries?) and pushed it the rest of the way over.\n",
    "\n",
    "For the first hour, everything was great. Granted, sometimes it needed shaken harder than my 4 year old could really muster, but it'd throw off a cute, lit, thunderbolt and be good. The vocals were perfect. No big deal.\n",
    "\n",
    "Later that night...my kids come in. \"I think he broke it because it doesn't want to light up anymore.\" Really? Broke a stuffed toy? I gave it a once over, checked the battery pack, the velcro hadn't been undone since I last did it. So...no idea what the issue was. I switched it off then on and shook it hard. Nothing. Pushed the paw then shook it again. There it did the sounds it does when it is 'charging'. I shook it hard enough that it made my chest muscles feel like they might tear and got a PIIIIIKKAAAAAAA-----\" but the 'CHHHUUUUUUUUU\" never came.\n",
    "\n",
    "My kid's four, he just wanted it back to go to sleep with, so I let him rather than return it. Fast forward to going to Wal-Mart that week. We're walking down the aisle and here's this same Pikachu, but the packaging isn't an enclosed box, it's open with twist ties to keep it in. It's also twice this price, and you could push the paw and shake it in the store and it would work because it was in demo mode and CAME WITH BATTERIES IN IT.\n",
    "\n",
    "My husband thought maybe we got the 'small' version, but they're both 12in ones...so it really just seems like either these are defective first editions or they're counterfeit models. So buy at your own risk.\n",
    "\n",
    "Though the toy arrived 2 days earlier than expected, so I got to play with it myself before I gave it to her.\n",
    "\"\"\""
   ]
  },
  {
   "cell_type": "code",
   "execution_count": 5,
   "id": "e7cfd895-5549-42f0-8131-75d512a8ed0f",
   "metadata": {},
   "outputs": [
    {
     "name": "stdout",
     "output_type": "stream",
     "text": [
      "\n",
      "I ordered this as a gift for my son, so that he could use it with his Ash Ketchum cosplay for a convention we're going to. When I opened the box it came in, there was no...security anything, like you get with most boxes. No twist ties, no plastic, no...even tape on the outside of the box. It was just a cardboard box with official looking printing on it to make it look legit enough, and Pikachu was just loose on the inside. Most companies at least pack something to keep things from rolling around in the package, even if it's just a plastic backing for it to stay against. This was just...tossed in there with a small thing of instructions.\n",
      "\n",
      "So, I put fresh batteries in it, as it doesn't come with them, and realized there wasn't any sort of security measure that some of them have like a pull-tab. I mean, I suppose that is only needed if they come with batteries, and I couldn't really pin why that confused me in this case. Like it really bothered me that this didn't come with batteries in it (more on that to come). But no big deal, I was prepared, and I gave it a good shake. It took some doing, but I realized I only had the switch pushed over to demo mode (lol why demo mode when it doesn't come with batteries?) and pushed it the rest of the way over.\n",
      "\n",
      "For the first hour, everything was great. Granted, sometimes it needed shaken harder than my 4 year old could really muster, but it'd throw off a cute, lit, thunderbolt and be good. The vocals were perfect. No big deal.\n",
      "\n",
      "Later that night...my kids come in. \"I think he broke it because it doesn't want to light up anymore.\" Really? Broke a stuffed toy? I gave it a once over, checked the battery pack, the velcro hadn't been undone since I last did it. So...no idea what the issue was. I switched it off then on and shook it hard. Nothing. Pushed the paw then shook it again. There it did the sounds it does when it is 'charging'. I shook it hard enough that it made my chest muscles feel like they might tear and got a PIIIIIKKAAAAAAA-----\" but the 'CHHHUUUUUUUUU\" never came.\n",
      "\n",
      "My kid's four, he just wanted it back to go to sleep with, so I let him rather than return it. Fast forward to going to Wal-Mart that week. We're walking down the aisle and here's this same Pikachu, but the packaging isn't an enclosed box, it's open with twist ties to keep it in. It's also twice this price, and you could push the paw and shake it in the store and it would work because it was in demo mode and CAME WITH BATTERIES IN IT.\n",
      "\n",
      "My husband thought maybe we got the 'small' version, but they're both 12in ones...so it really just seems like either these are defective first editions or they're counterfeit models. So buy at your own risk.\n",
      "\n",
      "Though the toy arrived 2 days earlier than expected, so I got to play with it myself before I gave it to her.\n",
      "\n"
     ]
    }
   ],
   "source": [
    "print(prodReview)"
   ]
  },
  {
   "cell_type": "markdown",
   "id": "8a6853b2-cd87-4d09-a4b8-4fe0e19f0635",
   "metadata": {},
   "source": [
    "## Classify Sentiment(Positive/ Negative)"
   ]
  },
  {
   "cell_type": "code",
   "execution_count": 6,
   "id": "a09103ec-697b-419a-a5dc-b84c5db3820a",
   "metadata": {},
   "outputs": [
    {
     "name": "stdout",
     "output_type": "stream",
     "text": [
      "The sentiment of the review is negative.\n"
     ]
    }
   ],
   "source": [
    "prompt = f\"\"\"\n",
    "What is the sentiment of the following product review, \n",
    "which is delimited with triple backticks?\n",
    "\n",
    "Review text: '''{prodReview}'''\n",
    "\"\"\"\n",
    "response = getCompletion(prompt)\n",
    "print(response)"
   ]
  },
  {
   "cell_type": "code",
   "execution_count": 7,
   "id": "924b933b-986e-45f5-806b-118d8a652c2a",
   "metadata": {},
   "outputs": [
    {
     "name": "stdout",
     "output_type": "stream",
     "text": [
      "negative\n"
     ]
    }
   ],
   "source": [
    "# Sentiment as either positive or negative\n",
    "prompt = f\"\"\"\n",
    "What is the sentiment of the following product review, \n",
    "which is delimited with triple backticks?\n",
    "\n",
    "Give your answer as single word, either \"positive\" or \"negative\".\n",
    "Review text: '''{prodReview}'''\n",
    "\"\"\"\n",
    "response = getCompletion(prompt)\n",
    "print(response)"
   ]
  },
  {
   "cell_type": "markdown",
   "id": "aa4b5ea6-72f4-4675-9a54-4e90356e3db2",
   "metadata": {},
   "source": [
    "## Identify types of Emotions"
   ]
  },
  {
   "cell_type": "code",
   "execution_count": 8,
   "id": "c92a128b-7738-42c3-ac7e-343e54737ecf",
   "metadata": {},
   "outputs": [
    {
     "name": "stdout",
     "output_type": "stream",
     "text": [
      "confused, bothered, frustrated, disappointed, skeptical\n"
     ]
    }
   ],
   "source": [
    "prompt = f\"\"\"\n",
    "Identify a list of emotions that the writer of the \\\n",
    "following review is expressing. Include no more than \\\n",
    "five items in the list. Format your answer as a list of \\\n",
    "lower-case words separated by commas.\n",
    "\n",
    "Review text: '''{prodReview}'''\n",
    "\"\"\"\n",
    "response = getCompletion(prompt)\n",
    "print(response)"
   ]
  },
  {
   "cell_type": "markdown",
   "id": "55fcc3f6-7694-4c8a-9254-1a280d61f84b",
   "metadata": {},
   "source": [
    "## Identify Anger"
   ]
  },
  {
   "cell_type": "code",
   "execution_count": 9,
   "id": "bc7d921b-d565-4336-82a3-78bd3e9e9d10",
   "metadata": {},
   "outputs": [
    {
     "name": "stdout",
     "output_type": "stream",
     "text": [
      "No.\n"
     ]
    }
   ],
   "source": [
    "prompt = f\"\"\"\n",
    "Is the writer of the following review expressing anger?\\\n",
    "The review is delimited with triple backticks. \\\n",
    "Give your answer as either yes or no.\n",
    "\n",
    "Review text: '''{prodReview}'''\n",
    "\"\"\"\n",
    "response = getCompletion(prompt)\n",
    "print(response)"
   ]
  },
  {
   "cell_type": "markdown",
   "id": "e9bcdbe8-c549-433c-8183-e84c93d99935",
   "metadata": {},
   "source": [
    "## Extract product and company name from customer reviews"
   ]
  },
  {
   "cell_type": "code",
   "execution_count": 11,
   "id": "bf62cc3b-babc-4832-85c0-38649a0c6692",
   "metadata": {},
   "outputs": [
    {
     "name": "stdout",
     "output_type": "stream",
     "text": [
      "{\n",
      "    \"Item\": \"Pikachu stuffed toy\",\n",
      "    \"Brand\": \"unknown\"\n",
      "}\n"
     ]
    }
   ],
   "source": [
    "prompt = f\"\"\"\n",
    "Identify the following items from the review text: \n",
    "- Item purchased by reviewer\n",
    "- Company that made the item\n",
    "\n",
    "The review is delimited with triple backticks. \\\n",
    "Format your response as a JSON object with \\\n",
    "\"Item\" and \"Brand\" as the keys. \n",
    "If the information isn't present, use \"unknown\" \\\n",
    "as the value.\n",
    "Make your response as short as possible.\n",
    "  \n",
    "Review text: '''{prodReview}'''\n",
    "\"\"\"\n",
    "response = getCompletion(prompt)\n",
    "print(response)"
   ]
  },
  {
   "cell_type": "markdown",
   "id": "c96f09e4-6fc0-4003-8b14-57eba99bfb21",
   "metadata": {},
   "source": [
    "## Doing multiple tasks at once"
   ]
  },
  {
   "cell_type": "code",
   "execution_count": 12,
   "id": "4ba8f28b-ab7e-4d34-bed3-c7e8ecb4bc4d",
   "metadata": {},
   "outputs": [
    {
     "name": "stdout",
     "output_type": "stream",
     "text": [
      "{\n",
      "    \"Sentiment\": \"negative\",\n",
      "    \"Anger\": false,\n",
      "    \"Item\": \"Pikachu stuffed toy\",\n",
      "    \"Brand\": \"unknown\"\n",
      "}\n"
     ]
    }
   ],
   "source": [
    "prompt = f\"\"\"\n",
    "Identify the following items from the review text: \n",
    "- Sentiment (positive or negative)\n",
    "- Is the reviewer expressing anger? (true or false)\n",
    "- Item purchased by reviewer\n",
    "- Company that made the item\n",
    "\n",
    "The review is delimited with triple backticks. \\\n",
    "Format your response as a JSON object with \\\n",
    "\"Sentiment\", \"Anger\", \"Item\" and \"Brand\" as the keys.\n",
    "If the information isn't present, use \"unknown\" \\\n",
    "as the value.\n",
    "Make your response as short as possible.\n",
    "Format the Anger value as a boolean.\n",
    "\n",
    "Review text: '''{prodReview}'''\n",
    "\"\"\"\n",
    "response = getCompletion(prompt)\n",
    "print(response)"
   ]
  },
  {
   "cell_type": "markdown",
   "id": "79d258d0-a264-45d0-b4ff-98b515169e1e",
   "metadata": {},
   "source": [
    "## Inferring topics"
   ]
  },
  {
   "cell_type": "code",
   "execution_count": 13,
   "id": "34688e67-128c-4cc2-aca5-43a1da703471",
   "metadata": {},
   "outputs": [],
   "source": [
    "story = \"\"\"\n",
    "In a recent survey conducted by the government, \n",
    "public sector employees were asked to rate their level \n",
    "of satisfaction with the department they work at. \n",
    "The results revealed that NASA was the most popular \n",
    "department with a satisfaction rating of 95%.\n",
    "\n",
    "One NASA employee, John Smith, commented on the findings, \n",
    "stating, \"I'm not surprised that NASA came out on top. \n",
    "It's a great place to work with amazing people and \n",
    "incredible opportunities. I'm proud to be a part of \n",
    "such an innovative organization.\"\n",
    "\n",
    "The results were also welcomed by NASA's management team, \n",
    "with Director Tom Johnson stating, \"We are thrilled to \n",
    "hear that our employees are satisfied with their work at NASA. \n",
    "We have a talented and dedicated team who work tirelessly \n",
    "to achieve our goals, and it's fantastic to see that their \n",
    "hard work is paying off.\"\n",
    "\n",
    "The survey also revealed that the \n",
    "Social Security Administration had the lowest satisfaction \n",
    "rating, with only 45% of employees indicating they were \n",
    "satisfied with their job. The government has pledged to \n",
    "address the concerns raised by employees in the survey and \n",
    "work towards improving job satisfaction across all departments.\n",
    "\"\"\""
   ]
  },
  {
   "cell_type": "code",
   "execution_count": 14,
   "id": "3281671b-d7b9-4bd0-9355-fabbbf72fb9c",
   "metadata": {},
   "outputs": [
    {
     "name": "stdout",
     "output_type": "stream",
     "text": [
      "government survey, job satisfaction, NASA, Social Security Administration, employee concerns\n"
     ]
    }
   ],
   "source": [
    "# Infer 5 topics\n",
    "prompt = f\"\"\"\n",
    "Determine five topics that are being discussed in the \\\n",
    "following text, which is delimited by triple backticks.\n",
    "\n",
    "Make each item one or two words long. \n",
    "\n",
    "Format your response as a list of items separated by commas.\n",
    "\n",
    "Text sample: '''{story}'''\n",
    "\"\"\"\n",
    "response = getCompletion(prompt)\n",
    "print(response)"
   ]
  },
  {
   "cell_type": "code",
   "execution_count": 15,
   "id": "7a67e1d0-79ea-4b19-81f7-a43478b29193",
   "metadata": {},
   "outputs": [
    {
     "data": {
      "text/plain": [
       "['government survey',\n",
       " ' job satisfaction',\n",
       " ' NASA',\n",
       " ' Social Security Administration',\n",
       " ' employee concerns']"
      ]
     },
     "execution_count": 15,
     "metadata": {},
     "output_type": "execute_result"
    }
   ],
   "source": [
    "response.split(sep=',')"
   ]
  },
  {
   "cell_type": "markdown",
   "id": "548b098c-16eb-4a02-ad51-d9726525e1ae",
   "metadata": {},
   "source": [
    "## Make a news alert system"
   ]
  },
  {
   "cell_type": "code",
   "execution_count": 20,
   "id": "98d56d5f-40ab-4826-be51-75fc52b4917d",
   "metadata": {},
   "outputs": [],
   "source": [
    "topics = [\n",
    "    \"nasa\", \"local government\", \"engineering\", \n",
    "    \"employee satisfaction\", \"federal government\"\n",
    "]"
   ]
  },
  {
   "cell_type": "code",
   "execution_count": 21,
   "id": "2e495a65-4557-410b-a407-7f921b8bc9e0",
   "metadata": {},
   "outputs": [
    {
     "name": "stdout",
     "output_type": "stream",
     "text": [
      "{\n",
      "  \"nasa\": true,\n",
      "  \"local government\": false,\n",
      "  \"engineering\": false,\n",
      "  \"employee satisfaction\": true,\n",
      "  \"federal government\": true\n",
      "}\n"
     ]
    }
   ],
   "source": [
    "prompt = f\"\"\"\n",
    "Determine whether each item in the following list of \\\n",
    "topics is a topic in the text below, which\n",
    "is delimited with triple backticks.\n",
    "\n",
    "Format your response as a JSON object with \\\n",
    "each topic as the keys. Format your response \\\n",
    "as boolean.\n",
    "\n",
    "List of topics: {\", \".join(topics)}\n",
    "\n",
    "Text sample: '''{story}'''\n",
    "\"\"\"\n",
    "response = getCompletion(prompt)\n",
    "print(response)"
   ]
  },
  {
   "cell_type": "code",
   "execution_count": 26,
   "id": "605a1f40-e859-4ec7-bde9-293fa65564ce",
   "metadata": {},
   "outputs": [],
   "source": [
    "response_dict = json.loads(response)"
   ]
  },
  {
   "cell_type": "code",
   "execution_count": 29,
   "id": "99d03aff-b198-4e82-bc79-6775ecf886a0",
   "metadata": {},
   "outputs": [
    {
     "name": "stdout",
     "output_type": "stream",
     "text": [
      "New NASA news out!!!\n"
     ]
    }
   ],
   "source": [
    "if response_dict['nasa']:\n",
    "    print('New NASA news out!!!')"
   ]
  }
 ],
 "metadata": {
  "kernelspec": {
   "display_name": "tfM1",
   "language": "python",
   "name": "tfm1"
  },
  "language_info": {
   "codemirror_mode": {
    "name": "ipython",
    "version": 3
   },
   "file_extension": ".py",
   "mimetype": "text/x-python",
   "name": "python",
   "nbconvert_exporter": "python",
   "pygments_lexer": "ipython3",
   "version": "3.8.13"
  }
 },
 "nbformat": 4,
 "nbformat_minor": 5
}
