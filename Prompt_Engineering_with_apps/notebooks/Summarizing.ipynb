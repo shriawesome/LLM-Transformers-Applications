{
 "cells": [
  {
   "cell_type": "markdown",
   "id": "dff8241a-5222-4d56-84fb-29ddf8d116c6",
   "metadata": {},
   "source": [
    "# Summarizing"
   ]
  },
  {
   "cell_type": "code",
   "execution_count": 1,
   "id": "24642d21-c132-4901-aea9-9ebabf70eca5",
   "metadata": {},
   "outputs": [],
   "source": [
    "import openai\n",
    "import sys\n",
    "sys.path.append('../')\n",
    "\n",
    "# Getting credentials\n",
    "from Config import openaiConfig\n",
    "openai.organization = openaiConfig.OPENAI_ORGANISATION\n",
    "openai.api_key = openaiConfig.OPENAI_API_KEY"
   ]
  },
  {
   "cell_type": "code",
   "execution_count": 2,
   "id": "bf0547fd-f145-4a9f-96aa-4dee1c94f9a8",
   "metadata": {},
   "outputs": [],
   "source": [
    "def getCompletion(prompt, model='gpt-3.5-turbo'):\n",
    "    messages = [\n",
    "    {'role':'user','content':prompt}\n",
    "    ]\n",
    "    response = openai.ChatCompletion.create(model = model,\n",
    "                                            messages = messages,\n",
    "                                            temperature = 0)\n",
    "    return response.choices[0].message['content']"
   ]
  },
  {
   "cell_type": "markdown",
   "id": "7b4c8710-23f3-4f51-904d-1b842c6687f5",
   "metadata": {},
   "source": [
    "## Text to Summarize"
   ]
  },
  {
   "cell_type": "code",
   "execution_count": 11,
   "id": "096d0759-487d-43a3-ac29-ad7f5450f0cb",
   "metadata": {},
   "outputs": [],
   "source": [
    "productReview = \"\"\"\n",
    "I ordered this as a gift for my son, so that he could use it with his \\\n",
    "Ash Ketchum cosplay for a convention we're going to. When I opened the \\\n",
    "box it came in, there was no...security anything, like you get with \\\n",
    "most boxes. No twist ties, no plastic, no...even tape on the outside of \\\n",
    "the box. It was just a cardboard box with official looking printing \\\n",
    "on it to make it look legit enough, and Pikachu was just loose on the \\\n",
    "inside. Most companies at least pack something to keep things from rolling around in the package, even if it's just a plastic backing for it to stay against. This was just...tossed in there with a small thing of instructions.\n",
    "\n",
    "So, I put fresh batteries in it, as it doesn't come with them, and realized there wasn't any sort of security measure that some of them have like a pull-tab. I mean, I suppose that is only needed if they come with batteries, and I couldn't really pin why that confused me in this case. Like it really bothered me that this didn't come with batteries in it (more on that to come). But no big deal, I was prepared, and I gave it a good shake. It took some doing, but I realized I only had the switch pushed over to demo mode (lol why demo mode when it doesn't come with batteries?) and pushed it the rest of the way over.\n",
    "\n",
    "For the first hour, everything was great. Granted, sometimes it needed shaken harder than my 4 year old could really muster, but it'd throw off a cute, lit, thunderbolt and be good. The vocals were perfect. No big deal.\n",
    "\n",
    "Later that night...my kids come in. \"I think he broke it because it doesn't want to light up anymore.\" Really? Broke a stuffed toy? I gave it a once over, checked the battery pack, the velcro hadn't been undone since I last did it. So...no idea what the issue was. I switched it off then on and shook it hard. Nothing. Pushed the paw then shook it again. There it did the sounds it does when it is 'charging'. I shook it hard enough that it made my chest muscles feel like they might tear and got a PIIIIIKKAAAAAAA-----\" but the 'CHHHUUUUUUUUU\" never came.\n",
    "\n",
    "My kid's four, he just wanted it back to go to sleep with, so I let him rather than return it. Fast forward to going to Wal-Mart that week. We're walking down the aisle and here's this same Pikachu, but the packaging isn't an enclosed box, it's open with twist ties to keep it in. It's also twice this price, and you could push the paw and shake it in the store and it would work because it was in demo mode and CAME WITH BATTERIES IN IT.\n",
    "\n",
    "My husband thought maybe we got the 'small' version, but they're both 12in ones...so it really just seems like either these are defective first editions or they're counterfeit models. So buy at your own risk.\n",
    "\n",
    "Though the toy arrived 2 days earlier than expected, so I got to play with it myself before I gave it to her.\n",
    "\"\"\""
   ]
  },
  {
   "cell_type": "code",
   "execution_count": 12,
   "id": "5121ce43-7df0-4253-86b9-09e5effdbd0e",
   "metadata": {},
   "outputs": [
    {
     "name": "stdout",
     "output_type": "stream",
     "text": [
      "\n",
      "I ordered this as a gift for my son, so that he could use it with his Ash Ketchum cosplay for a convention we're going to. When I opened the box it came in, there was no...security anything, like you get with most boxes. No twist ties, no plastic, no...even tape on the outside of the box. It was just a cardboard box with official looking printing on it to make it look legit enough, and Pikachu was just loose on the inside. Most companies at least pack something to keep things from rolling around in the package, even if it's just a plastic backing for it to stay against. This was just...tossed in there with a small thing of instructions.\n",
      "\n",
      "So, I put fresh batteries in it, as it doesn't come with them, and realized there wasn't any sort of security measure that some of them have like a pull-tab. I mean, I suppose that is only needed if they come with batteries, and I couldn't really pin why that confused me in this case. Like it really bothered me that this didn't come with batteries in it (more on that to come). But no big deal, I was prepared, and I gave it a good shake. It took some doing, but I realized I only had the switch pushed over to demo mode (lol why demo mode when it doesn't come with batteries?) and pushed it the rest of the way over.\n",
      "\n",
      "For the first hour, everything was great. Granted, sometimes it needed shaken harder than my 4 year old could really muster, but it'd throw off a cute, lit, thunderbolt and be good. The vocals were perfect. No big deal.\n",
      "\n",
      "Later that night...my kids come in. \"I think he broke it because it doesn't want to light up anymore.\" Really? Broke a stuffed toy? I gave it a once over, checked the battery pack, the velcro hadn't been undone since I last did it. So...no idea what the issue was. I switched it off then on and shook it hard. Nothing. Pushed the paw then shook it again. There it did the sounds it does when it is 'charging'. I shook it hard enough that it made my chest muscles feel like they might tear and got a PIIIIIKKAAAAAAA-----\" but the 'CHHHUUUUUUUUU\" never came.\n",
      "\n",
      "My kid's four, he just wanted it back to go to sleep with, so I let him rather than return it. Fast forward to going to Wal-Mart that week. We're walking down the aisle and here's this same Pikachu, but the packaging isn't an enclosed box, it's open with twist ties to keep it in. It's also twice this price, and you could push the paw and shake it in the store and it would work because it was in demo mode and CAME WITH BATTERIES IN IT.\n",
      "\n",
      "My husband thought maybe we got the 'small' version, but they're both 12in ones...so it really just seems like either these are defective first editions or they're counterfeit models. So buy at your own risk.\n",
      "\n",
      "Though the toy arrived 2 days earlier than expected, so I got to play with it myself before I gave it to her.\n",
      "\n"
     ]
    }
   ],
   "source": [
    "print(productReview)"
   ]
  },
  {
   "cell_type": "markdown",
   "id": "4b1ac4cd-3ced-4342-a848-9f7e9a8a68e7",
   "metadata": {},
   "source": [
    "## 1. Summarize with word limit"
   ]
  },
  {
   "cell_type": "code",
   "execution_count": 8,
   "id": "07ee5197-0f77-4407-8051-596d3a3e4eed",
   "metadata": {},
   "outputs": [
    {
     "name": "stdout",
     "output_type": "stream",
     "text": [
      "The reviewer received a Pikachu toy without any security measures in the packaging. The toy required shaking to activate, but stopped working after a short time. The reviewer found a similar toy at Walmart with better packaging and batteries included. The toy may be defective or counterfeit.\n"
     ]
    }
   ],
   "source": [
    "prompt = f\"\"\"\n",
    "Your task is to generate a short summary of a product \\\n",
    "review from an ecommerce site. \n",
    "\n",
    "Summarize the review below, delimited by triple \n",
    "backticks, in at most 30 words. \n",
    "\n",
    "Review: ```{productReview}```\n",
    "\"\"\"\n",
    "\n",
    "response = getCompletion(prompt)\n",
    "print(response)\n"
   ]
  },
  {
   "cell_type": "markdown",
   "id": "857700ff-417d-40f6-a76b-59123b425aa6",
   "metadata": {},
   "source": [
    "## Summarize with focus on shipping and delivery"
   ]
  },
  {
   "cell_type": "code",
   "execution_count": 13,
   "id": "eca83ed7-297a-408a-8b65-ce8c4ae2dbf3",
   "metadata": {},
   "outputs": [
    {
     "name": "stdout",
     "output_type": "stream",
     "text": [
      "The product arrived without any security measures, just a cardboard box with printing on it. It also did not come with batteries, which was frustrating. The toy worked well at first, but later stopped lighting up. The reviewer found a similar product at Walmart for twice the price, which came with batteries and was packaged with twist ties. The reviewer suspects that the product they received may be defective or counterfeit. However, the toy did arrive two days earlier than expected.\n"
     ]
    }
   ],
   "source": [
    "prompt = f\"\"\"\n",
    "Your task is to generate a short summary of a product \\\n",
    "review from an ecommerce site to give feedback to the \\\n",
    "Shipping deparmtment. \n",
    "\n",
    "Summarize the review below, delimited by triple \n",
    "backticks, in at most 30 words, and focusing on any aspects \\\n",
    "that mention shipping and delivery of the product. \n",
    "\n",
    "Review: ```{productReview}```\n",
    "\"\"\"\n",
    "\n",
    "response = getCompletion(prompt)\n",
    "print(response)\n"
   ]
  },
  {
   "cell_type": "markdown",
   "id": "d2e3bd34-36f3-4d23-b17b-6560b57589e1",
   "metadata": {},
   "source": [
    "## Summarize with a focus on price and value"
   ]
  },
  {
   "cell_type": "code",
   "execution_count": 14,
   "id": "a0077501-2ebe-4f42-a8fe-627d81609d1f",
   "metadata": {},
   "outputs": [
    {
     "name": "stdout",
     "output_type": "stream",
     "text": [
      "The product arrived without proper packaging and did not include batteries. It worked well initially but stopped working after a short time. The same product was found at a higher price in a store with better packaging and included batteries. The price should be adjusted to reflect the poor quality and lack of included batteries.\n"
     ]
    }
   ],
   "source": [
    "prompt = f\"\"\"\n",
    "Your task is to generate a short summary of a product \\\n",
    "review from an ecommerce site to give feedback to the \\\n",
    "pricing deparmtment, responsible for determining the \\\n",
    "price of the product.  \n",
    "\n",
    "Summarize the review below, delimited by triple \n",
    "backticks, in at most 30 words, and focusing on any aspects \\\n",
    "that are relevant to the price and perceived value. \n",
    "\n",
    "Review: ```{productReview}```\n",
    "\"\"\"\n",
    "\n",
    "response = getCompletion(prompt)\n",
    "print(response)\n"
   ]
  },
  {
   "cell_type": "markdown",
   "id": "2f4b0dba-0f40-48bb-85ef-97bc987ce742",
   "metadata": {},
   "source": [
    "`summarize` contains other information along with the topic of focus"
   ]
  },
  {
   "cell_type": "markdown",
   "id": "03d71fca-01ad-4003-a966-26d616e8a47e",
   "metadata": {},
   "source": [
    "## Try \"extract\" instead of \"summarize\""
   ]
  },
  {
   "cell_type": "code",
   "execution_count": 19,
   "id": "cea0a801-c67a-4b60-90f6-5be09e82566d",
   "metadata": {},
   "outputs": [
    {
     "name": "stdout",
     "output_type": "stream",
     "text": [
      "The toy arrived in a cardboard box with no protective measures. It did not come with batteries, unlike the more expensive version sold in stores. There were issues with the toy's functionality. Name of toy: Pikachu.\n"
     ]
    }
   ],
   "source": [
    "prompt = f\"\"\"\n",
    "Your task is to extract relevant information from \\ \n",
    "a product review from an ecommerce site to give \\\n",
    "feedback to the Shipping department. \n",
    "\n",
    "From the review below, delimited by triple quotes \\\n",
    "extract the information relevant to shipping and \\ \n",
    "delivery. Limit to 30 words. \n",
    "\n",
    "After the description write the name of the toy.\n",
    "\n",
    "Review: ```{productReview}```\n",
    "\"\"\"\n",
    "\n",
    "response = getCompletion(prompt)\n",
    "print(response)"
   ]
  },
  {
   "cell_type": "code",
   "execution_count": null,
   "id": "7bdbd8fb-35bd-4fe6-8e52-65aa55feaab1",
   "metadata": {},
   "outputs": [],
   "source": []
  }
 ],
 "metadata": {
  "kernelspec": {
   "display_name": "tfM1",
   "language": "python",
   "name": "tfm1"
  },
  "language_info": {
   "codemirror_mode": {
    "name": "ipython",
    "version": 3
   },
   "file_extension": ".py",
   "mimetype": "text/x-python",
   "name": "python",
   "nbconvert_exporter": "python",
   "pygments_lexer": "ipython3",
   "version": "3.8.13"
  }
 },
 "nbformat": 4,
 "nbformat_minor": 5
}
